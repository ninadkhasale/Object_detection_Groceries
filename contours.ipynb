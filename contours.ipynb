{
 "cells": [
  {
   "cell_type": "code",
   "execution_count": null,
   "id": "2dea229f-53c8-43b5-bfc1-3274faf1f4a0",
   "metadata": {},
   "outputs": [
    {
     "name": "stdout",
     "output_type": "stream",
     "text": [
      "Number of tomatoes: 1\n"
     ]
    }
   ],
   "source": [
    "import cv2\n",
    "import numpy as np\n",
    "\n",
    "def count_tomatoes(contours, min_area=1000):\n",
    "    count = 0\n",
    "    total_area = 0\n",
    "\n",
    "    for contour in contours:\n",
    "        area = cv2.contourArea(contour)\n",
    "        total_area += area\n",
    "\n",
    "    # Adjust the minimum area threshold based on the total area and number of contours\n",
    "    if len(contours) > 0:\n",
    "        average_area = total_area / len(contours)\n",
    "        min_area = min(min_area, average_area * 0.5)  # Adjust this factor as needed\n",
    "\n",
    "    for contour in contours:\n",
    "        area = cv2.contourArea(contour)\n",
    "        if area > min_area:\n",
    "            count += 1\n",
    "\n",
    "    return count\n",
    "\n",
    "img = cv2.imread('2cap.jpeg')\n",
    "gray = cv2.cvtColor(img, cv2.COLOR_BGR2GRAY)\n",
    "_, thresh = cv2.threshold(gray, 150, 255, cv2.THRESH_BINARY_INV)  # Adjust the threshold value\n",
    "\n",
    "kernel = np.ones((3, 3), np.uint8)  # Kernel size for morphological operations\n",
    "\n",
    "# Closing followed by opening to remove noise and fill gaps in contours\n",
    "closing = cv2.morphologyEx(thresh, cv2.MORPH_CLOSE, kernel)\n",
    "opening = cv2.morphologyEx(closing, cv2.MORPH_OPEN, kernel)\n",
    "\n",
    "# Apply erosion and dilation\n",
    "erosion = cv2.erode(opening, kernel, iterations=1)\n",
    "dilation = cv2.dilate(erosion, kernel, iterations=2)\n",
    "\n",
    "# Find contours\n",
    "contours, hierarchy = cv2.findContours(dilation, cv2.RETR_TREE, cv2.CHAIN_APPROX_SIMPLE)  # Use cv2.RETR_TREE for better contour retrieval\n",
    "\n",
    "# Count tomatoes\n",
    "tomatoes_count = count_tomatoes(contours)\n",
    "\n",
    "print(\"Number of tomatoes:\", tomatoes_count)\n",
    "\n",
    "# Draw contours on a copy of the original image\n",
    "result_img = img.copy()\n",
    "cv2.drawContours(result_img, contours, -1, (0, 255, 0), thickness=1)\n",
    "\n",
    "# Display the original image with contours\n",
    "cv2.imshow('Tomatoes Count', result_img)\n",
    "cv2.waitKey(0)\n"
   ]
  },
  {
   "cell_type": "code",
   "execution_count": null,
   "id": "1b47ce01-779b-4c90-85dc-37fdd6534780",
   "metadata": {},
   "outputs": [],
   "source": []
  },
  {
   "cell_type": "code",
   "execution_count": null,
   "id": "54386b66-fec4-4543-ac52-6638ca36734c",
   "metadata": {},
   "outputs": [],
   "source": []
  },
  {
   "cell_type": "code",
   "execution_count": null,
   "id": "197331e0-02ab-49c2-b9fa-004b79ba5a49",
   "metadata": {},
   "outputs": [],
   "source": []
  },
  {
   "cell_type": "code",
   "execution_count": null,
   "id": "b6782737-e3b0-4af4-95df-9fb293bdc78f",
   "metadata": {},
   "outputs": [],
   "source": []
  },
  {
   "cell_type": "code",
   "execution_count": null,
   "id": "4dedbc61-c68c-4bad-8c3b-266a940741bc",
   "metadata": {},
   "outputs": [],
   "source": []
  }
 ],
 "metadata": {
  "kernelspec": {
   "display_name": "Python 3 (ipykernel)",
   "language": "python",
   "name": "python3"
  },
  "language_info": {
   "codemirror_mode": {
    "name": "ipython",
    "version": 3
   },
   "file_extension": ".py",
   "mimetype": "text/x-python",
   "name": "python",
   "nbconvert_exporter": "python",
   "pygments_lexer": "ipython3",
   "version": "3.11.4"
  }
 },
 "nbformat": 4,
 "nbformat_minor": 5
}
